{
 "cells": [
  {
   "cell_type": "markdown",
   "metadata": {},
   "source": [
    "# Datová analýza exoplanetárního datasetu</h1>\n",
    "## Semestrální práce z předmětu 4ST101\n",
    "### *Autor: Jakub Vítovec*"
   ]
  },
  {
   "cell_type": "markdown",
   "metadata": {},
   "source": [
    "## 1. Charakteristika zpracovávaných dat.\n",
    "Ve své semestrální práci se budu zabývat daty získanými z veřejné databáze [Keggle](https://www.kaggle.com/). Konkrétní dataset je dostupný na URL [https://www.kaggle.com/datasets/sathyanarayanrao89/nasa-exoplanetary-system](https://www.kaggle.com/datasets/sathyanarayanrao89/nasa-exoplanetary-system) a byl vytvořen uživatelem Sathyanarayan Rao z dat publikovaných vesmírnou agenturou NASA. Celkem se v datasetu nachází 32552 různých dosud objevených exoplanet a základní data o nich.\n",
    "Exoplaneta je planeta, která obíhá okolo jiné hvězdy, než okolo Slunce. První exoplaneta byla objevena v roce 1998 a počet jejich počet stále roste. Ve své semestrální práci bych se rád zaměřil na trend růstu či poklesu počtu objevených nových exoplanet."
   ]
  },
  {
   "cell_type": "markdown",
   "metadata": {},
   "source": [
    "### Čištění dat\n",
    "V tomto oddíle vyčistíme data od nežádoucích hodnot."
   ]
  },
  {
   "cell_type": "code",
   "execution_count": 72,
   "metadata": {
    "ExecuteTime": {
     "end_time": "2023-05-29T15:33:16.068667Z",
     "start_time": "2023-05-29T15:33:15.902477700Z"
    }
   },
   "outputs": [
    {
     "name": "stdout",
     "output_type": "stream",
     "text": [
      "<class 'pandas.core.frame.DataFrame'>\n",
      "RangeIndex: 32552 entries, 0 to 32551\n",
      "Data columns (total 93 columns):\n",
      " #   Column                                   Non-Null Count  Dtype  \n",
      "---  ------                                   --------------  -----  \n",
      " 0   Unnamed: 0                               32552 non-null  int64  \n",
      " 1   Planet Name                              32552 non-null  object \n",
      " 2   Host Name                                32552 non-null  object \n",
      " 3   Number of Stars                          32552 non-null  int64  \n",
      " 4   Number of Planets                        32552 non-null  int64  \n",
      " 5   Discovery Method                         32552 non-null  object \n",
      " 6   Discovery Year                           32552 non-null  int64  \n",
      " 7   Discovery Facility                       32552 non-null  object \n",
      " 8   Orbital Period [days]                    29747 non-null  float64\n",
      " 9    Planet Radius [Earth Radius]            22711 non-null  float64\n",
      " 10  Planet Mass or Mass*sin(i) [Earth Mass]  4699 non-null   float64\n",
      " 11   Eccentricity                            16650 non-null  float64\n",
      " 12  Unnamed: 12                              0 non-null      float64\n",
      " 13  Unnamed: 13                              0 non-null      float64\n",
      " 14  Unnamed: 14                              0 non-null      float64\n",
      " 15  Unnamed: 15                              0 non-null      float64\n",
      " 16  Unnamed: 16                              0 non-null      float64\n",
      " 17  Unnamed: 17                              0 non-null      float64\n",
      " 18  Unnamed: 18                              0 non-null      float64\n",
      " 19  Unnamed: 19                              0 non-null      float64\n",
      " 20  Unnamed: 20                              0 non-null      float64\n",
      " 21  Unnamed: 21                              0 non-null      float64\n",
      " 22  Unnamed: 22                              0 non-null      float64\n",
      " 23  Unnamed: 23                              0 non-null      float64\n",
      " 24  Unnamed: 24                              0 non-null      float64\n",
      " 25  Unnamed: 25                              0 non-null      float64\n",
      " 26  Unnamed: 26                              0 non-null      float64\n",
      " 27  Unnamed: 27                              0 non-null      float64\n",
      " 28  Unnamed: 28                              0 non-null      float64\n",
      " 29  Unnamed: 29                              0 non-null      float64\n",
      " 30  Unnamed: 30                              0 non-null      float64\n",
      " 31  Unnamed: 31                              0 non-null      float64\n",
      " 32  Unnamed: 32                              0 non-null      float64\n",
      " 33  Unnamed: 33                              0 non-null      float64\n",
      " 34  Unnamed: 34                              0 non-null      float64\n",
      " 35  Unnamed: 35                              0 non-null      float64\n",
      " 36  Unnamed: 36                              0 non-null      float64\n",
      " 37  Unnamed: 37                              0 non-null      float64\n",
      " 38  Unnamed: 38                              0 non-null      float64\n",
      " 39  Unnamed: 39                              0 non-null      float64\n",
      " 40  Unnamed: 40                              0 non-null      float64\n",
      " 41  Unnamed: 41                              0 non-null      float64\n",
      " 42  Unnamed: 42                              0 non-null      float64\n",
      " 43  Unnamed: 43                              0 non-null      float64\n",
      " 44  Unnamed: 44                              0 non-null      float64\n",
      " 45  Unnamed: 45                              0 non-null      float64\n",
      " 46  Unnamed: 46                              0 non-null      float64\n",
      " 47  Unnamed: 47                              0 non-null      float64\n",
      " 48  Unnamed: 48                              0 non-null      float64\n",
      " 49  Unnamed: 49                              0 non-null      float64\n",
      " 50  Unnamed: 50                              0 non-null      float64\n",
      " 51  Unnamed: 51                              0 non-null      float64\n",
      " 52  Unnamed: 52                              0 non-null      float64\n",
      " 53  Unnamed: 53                              0 non-null      float64\n",
      " 54  Unnamed: 54                              0 non-null      float64\n",
      " 55  Unnamed: 55                              0 non-null      float64\n",
      " 56  Unnamed: 56                              0 non-null      float64\n",
      " 57  Unnamed: 57                              0 non-null      float64\n",
      " 58  Unnamed: 58                              0 non-null      float64\n",
      " 59  Unnamed: 59                              0 non-null      float64\n",
      " 60  Unnamed: 60                              0 non-null      float64\n",
      " 61  Unnamed: 61                              0 non-null      float64\n",
      " 62  Unnamed: 62                              0 non-null      float64\n",
      " 63  Unnamed: 63                              0 non-null      float64\n",
      " 64  Unnamed: 64                              0 non-null      float64\n",
      " 65  Unnamed: 65                              0 non-null      float64\n",
      " 66  Unnamed: 66                              0 non-null      float64\n",
      " 67  Unnamed: 67                              0 non-null      float64\n",
      " 68  Unnamed: 68                              0 non-null      float64\n",
      " 69  Unnamed: 69                              0 non-null      float64\n",
      " 70  Unnamed: 70                              0 non-null      float64\n",
      " 71  Unnamed: 71                              0 non-null      float64\n",
      " 72  Unnamed: 72                              0 non-null      float64\n",
      " 73  Unnamed: 73                              0 non-null      float64\n",
      " 74  Unnamed: 74                              0 non-null      float64\n",
      " 75  Unnamed: 75                              0 non-null      float64\n",
      " 76  Unnamed: 76                              0 non-null      float64\n",
      " 77  Unnamed: 77                              0 non-null      float64\n",
      " 78  Unnamed: 78                              0 non-null      float64\n",
      " 79  Unnamed: 79                              0 non-null      float64\n",
      " 80  Unnamed: 80                              0 non-null      float64\n",
      " 81  Unnamed: 81                              0 non-null      float64\n",
      " 82  Unnamed: 82                              0 non-null      float64\n",
      " 83  Unnamed: 83                              0 non-null      float64\n",
      " 84  Unnamed: 84                              0 non-null      float64\n",
      " 85  Unnamed: 85                              0 non-null      float64\n",
      " 86  Unnamed: 86                              0 non-null      float64\n",
      " 87  Unnamed: 87                              0 non-null      float64\n",
      " 88  Unnamed: 88                              0 non-null      float64\n",
      " 89  Unnamed: 89                              0 non-null      float64\n",
      " 90  Unnamed: 90                              0 non-null      float64\n",
      " 91  Unnamed: 91                              0 non-null      float64\n",
      " 92  Unnamed: 92                              0 non-null      float64\n",
      "dtypes: float64(85), int64(4), object(4)\n",
      "memory usage: 23.1+ MB\n"
     ]
    }
   ],
   "source": [
    "import numpy as np;\n",
    "import pandas as pd;\n",
    "\n",
    "dataset = pd.read_csv(\"./exoplanets_dataset.csv\");\n",
    "dataset.info()"
   ]
  },
  {
   "cell_type": "markdown",
   "metadata": {},
   "source": [
    "Jak vidíme dataset obsahuje značné množství nepojmenovaných sloupců - Unnamed. Ty z datasetu odstraníme jako první."
   ]
  },
  {
   "cell_type": "code",
   "execution_count": 73,
   "metadata": {
    "ExecuteTime": {
     "end_time": "2023-05-29T15:33:16.131705900Z",
     "start_time": "2023-05-29T15:33:16.114106200Z"
    }
   },
   "outputs": [],
   "source": [
    "for column_name in dataset.columns:\n",
    "    if (\"Unnamed\" in column_name):\n",
    "        del dataset[column_name];"
   ]
  },
  {
   "cell_type": "markdown",
   "metadata": {},
   "source": [
    "Jako další by bylo vhodné zkontrolovat počty chybějících hodnot v jednotlivých sloupcích."
   ]
  },
  {
   "cell_type": "code",
   "execution_count": 74,
   "metadata": {
    "ExecuteTime": {
     "end_time": "2023-05-29T15:33:16.144927700Z",
     "start_time": "2023-05-29T15:33:16.137688300Z"
    }
   },
   "outputs": [
    {
     "name": "stdout",
     "output_type": "stream",
     "text": [
      "Planet Name                                    0\n",
      "Host Name                                      0\n",
      "Number of Stars                                0\n",
      "Number of Planets                              0\n",
      "Discovery Method                               0\n",
      "Discovery Year                                 0\n",
      "Discovery Facility                             0\n",
      "Orbital Period [days]                       2805\n",
      " Planet Radius [Earth Radius]               9841\n",
      "Planet Mass or Mass*sin(i) [Earth Mass]    27853\n",
      " Eccentricity                              15902\n",
      "dtype: int64\n"
     ]
    }
   ],
   "source": [
    "print(dataset.isnull().sum());"
   ]
  },
  {
   "cell_type": "markdown",
   "metadata": {},
   "source": [
    "Nejvíce chybějících hodnot se nachází ve sloupcích Planet Mass or Mass*sin(i), Eccentricity a Planet Radius, které obsahují hmotnost planety, ekcentricitu její oběžné dráhy a jejich poloměr. Vzhledem k tomu, že značná část těchto dat nám chybí, tak nebudeme tyto hodnoty využívat a sloupce odstraníme."
   ]
  },
  {
   "cell_type": "code",
   "execution_count": 75,
   "metadata": {
    "ExecuteTime": {
     "end_time": "2023-05-29T15:33:16.205826100Z",
     "start_time": "2023-05-29T15:33:16.150911500Z"
    }
   },
   "outputs": [],
   "source": [
    "columns_to_delte = [\" Planet Radius [Earth Radius]\", \"Planet Mass or Mass*sin(i) [Earth Mass]\",  \" Eccentricity\"]\n",
    "\n",
    "for column_name in dataset.columns:\n",
    "    if (column_name in columns_to_delte):\n",
    "        del dataset[column_name];"
   ]
  },
  {
   "cell_type": "markdown",
   "metadata": {},
   "source": [
    "Jako další odstraníme z datasetu duplikované hodnoty."
   ]
  },
  {
   "cell_type": "code",
   "execution_count": 76,
   "metadata": {
    "ExecuteTime": {
     "end_time": "2023-05-29T15:33:16.213813300Z",
     "start_time": "2023-05-29T15:33:16.175096Z"
    }
   },
   "outputs": [
    {
     "name": "stdout",
     "output_type": "stream",
     "text": [
      "Deleted duplicate values: 11305\n"
     ]
    }
   ],
   "source": [
    "print(\"Deleted duplicate values: \" + str(dataset.duplicated().sum()));\n",
    "dataset.drop_duplicates();"
   ]
  },
  {
   "cell_type": "markdown",
   "source": [
    "Po odstranění sloupců se značným počtem chybějících hodnot nám v datasetu zůstaly následující proměnné:\n",
    "- **Planet Name** - Obsahuje jméno dané exoplanety\n",
    "- **Host Name** - Jméno hostující hvězdy\n",
    "- **Number of Stars** - Počer hvězd v planetárním systému dané exoplanety (u Země 1)\n",
    "- **Number of Planets** - Počet planet v planetárním systému dané exoplanety (u Země 8)\n",
    "- **Discovery Method** - Způsob objevení planety\n",
    "- **Discovery Year** - Rok objevení planety\n",
    "- **Discovary Facility** - Zařízení, které objevilo danou planetu\n",
    "- **Orbital Period** - Orbitální perioda, doba v letech, za kterou planeta oběhne svou hostující hvězdu (Host Name)"
   ],
   "metadata": {
    "collapsed": false
   }
  },
  {
   "cell_type": "code",
   "execution_count": null,
   "outputs": [],
   "source": [],
   "metadata": {
    "collapsed": false
   }
  }
 ],
 "metadata": {
  "kernelspec": {
   "display_name": "Python 3 (ipykernel)",
   "language": "python",
   "name": "python3"
  },
  "language_info": {
   "codemirror_mode": {
    "name": "ipython",
    "version": 3
   },
   "file_extension": ".py",
   "mimetype": "text/x-python",
   "name": "python",
   "nbconvert_exporter": "python",
   "pygments_lexer": "ipython3",
   "version": "3.10.11"
  }
 },
 "nbformat": 4,
 "nbformat_minor": 1
}
