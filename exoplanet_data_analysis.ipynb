{
 "cells": [
  {
   "cell_type": "markdown",
   "metadata": {},
   "source": [
    "# Datová analýza exoplanetárního datasetu</h1>\n",
    "## Semestrální práce z předmětu 4ST101\n",
    "### *Autor: Jakub Vítovec*"
   ]
  },
  {
   "cell_type": "markdown",
   "metadata": {},
   "source": [
    "## Úvod\n",
    "Ve své semestrální práci se budu zabývat daty získanými z veřejné databáze [Keggle](https://www.kaggle.com/). Konkrétní dataset je dostupný na URL [https://www.kaggle.com/datasets/sathyanarayanrao89/nasa-exoplanetary-system](https://www.kaggle.com/datasets/sathyanarayanrao89/nasa-exoplanetary-system) a byl vytvořen uživatelem Sathyanarayan Rao z dat publikovaných vesmírnou agenturou NASA. Celkem se v datasetu nachází 32552 různých dosud objevených exoplanet a základní data o nich.\n",
    "Exoplaneta je planeta, která obíhá okolo jiné hvězdy, než okolo Slunce. První exoplaneta byla objevena v roce 1998 a počet jejich počet stále roste. Ve své semestrální práci bych se rád zaměřil na trend růstu či poklesu počtu objevených nových exoplanet a zapojení různých vědeckých zařízení při jejich objevování."
   ]
  },
  {
   "cell_type": "markdown",
   "metadata": {},
   "source": [
    "### Představení dat a jejich čištění\n",
    "V tomto oddíle si představíme zpracovávaná data a vyčistíme je od nežádoucích hodnot."
   ]
  },
  {
   "cell_type": "code",
   "execution_count": 51,
   "metadata": {
    "scrolled": true,
    "ExecuteTime": {
     "end_time": "2023-06-02T13:30:43.537508800Z",
     "start_time": "2023-06-02T13:30:43.323985200Z"
    }
   },
   "outputs": [
    {
     "name": "stdout",
     "output_type": "stream",
     "text": [
      "<class 'pandas.core.frame.DataFrame'>\n",
      "RangeIndex: 32552 entries, 0 to 32551\n",
      "Data columns (total 93 columns):\n",
      " #   Column                                   Non-Null Count  Dtype  \n",
      "---  ------                                   --------------  -----  \n",
      " 0   Unnamed: 0                               32552 non-null  int64  \n",
      " 1   Planet Name                              32552 non-null  object \n",
      " 2   Host Name                                32552 non-null  object \n",
      " 3   Number of Stars                          32552 non-null  int64  \n",
      " 4   Number of Planets                        32552 non-null  int64  \n",
      " 5   Discovery Method                         32552 non-null  object \n",
      " 6   Discovery Year                           32552 non-null  int64  \n",
      " 7   Discovery Facility                       32552 non-null  object \n",
      " 8   Orbital Period [days]                    29747 non-null  float64\n",
      " 9    Planet Radius [Earth Radius]            22711 non-null  float64\n",
      " 10  Planet Mass or Mass*sin(i) [Earth Mass]  4699 non-null   float64\n",
      " 11   Eccentricity                            16650 non-null  float64\n",
      " 12  Unnamed: 12                              0 non-null      float64\n",
      " 13  Unnamed: 13                              0 non-null      float64\n",
      " 14  Unnamed: 14                              0 non-null      float64\n",
      " 15  Unnamed: 15                              0 non-null      float64\n",
      " 16  Unnamed: 16                              0 non-null      float64\n",
      " 17  Unnamed: 17                              0 non-null      float64\n",
      " 18  Unnamed: 18                              0 non-null      float64\n",
      " 19  Unnamed: 19                              0 non-null      float64\n",
      " 20  Unnamed: 20                              0 non-null      float64\n",
      " 21  Unnamed: 21                              0 non-null      float64\n",
      " 22  Unnamed: 22                              0 non-null      float64\n",
      " 23  Unnamed: 23                              0 non-null      float64\n",
      " 24  Unnamed: 24                              0 non-null      float64\n",
      " 25  Unnamed: 25                              0 non-null      float64\n",
      " 26  Unnamed: 26                              0 non-null      float64\n",
      " 27  Unnamed: 27                              0 non-null      float64\n",
      " 28  Unnamed: 28                              0 non-null      float64\n",
      " 29  Unnamed: 29                              0 non-null      float64\n",
      " 30  Unnamed: 30                              0 non-null      float64\n",
      " 31  Unnamed: 31                              0 non-null      float64\n",
      " 32  Unnamed: 32                              0 non-null      float64\n",
      " 33  Unnamed: 33                              0 non-null      float64\n",
      " 34  Unnamed: 34                              0 non-null      float64\n",
      " 35  Unnamed: 35                              0 non-null      float64\n",
      " 36  Unnamed: 36                              0 non-null      float64\n",
      " 37  Unnamed: 37                              0 non-null      float64\n",
      " 38  Unnamed: 38                              0 non-null      float64\n",
      " 39  Unnamed: 39                              0 non-null      float64\n",
      " 40  Unnamed: 40                              0 non-null      float64\n",
      " 41  Unnamed: 41                              0 non-null      float64\n",
      " 42  Unnamed: 42                              0 non-null      float64\n",
      " 43  Unnamed: 43                              0 non-null      float64\n",
      " 44  Unnamed: 44                              0 non-null      float64\n",
      " 45  Unnamed: 45                              0 non-null      float64\n",
      " 46  Unnamed: 46                              0 non-null      float64\n",
      " 47  Unnamed: 47                              0 non-null      float64\n",
      " 48  Unnamed: 48                              0 non-null      float64\n",
      " 49  Unnamed: 49                              0 non-null      float64\n",
      " 50  Unnamed: 50                              0 non-null      float64\n",
      " 51  Unnamed: 51                              0 non-null      float64\n",
      " 52  Unnamed: 52                              0 non-null      float64\n",
      " 53  Unnamed: 53                              0 non-null      float64\n",
      " 54  Unnamed: 54                              0 non-null      float64\n",
      " 55  Unnamed: 55                              0 non-null      float64\n",
      " 56  Unnamed: 56                              0 non-null      float64\n",
      " 57  Unnamed: 57                              0 non-null      float64\n",
      " 58  Unnamed: 58                              0 non-null      float64\n",
      " 59  Unnamed: 59                              0 non-null      float64\n",
      " 60  Unnamed: 60                              0 non-null      float64\n",
      " 61  Unnamed: 61                              0 non-null      float64\n",
      " 62  Unnamed: 62                              0 non-null      float64\n",
      " 63  Unnamed: 63                              0 non-null      float64\n",
      " 64  Unnamed: 64                              0 non-null      float64\n",
      " 65  Unnamed: 65                              0 non-null      float64\n",
      " 66  Unnamed: 66                              0 non-null      float64\n",
      " 67  Unnamed: 67                              0 non-null      float64\n",
      " 68  Unnamed: 68                              0 non-null      float64\n",
      " 69  Unnamed: 69                              0 non-null      float64\n",
      " 70  Unnamed: 70                              0 non-null      float64\n",
      " 71  Unnamed: 71                              0 non-null      float64\n",
      " 72  Unnamed: 72                              0 non-null      float64\n",
      " 73  Unnamed: 73                              0 non-null      float64\n",
      " 74  Unnamed: 74                              0 non-null      float64\n",
      " 75  Unnamed: 75                              0 non-null      float64\n",
      " 76  Unnamed: 76                              0 non-null      float64\n",
      " 77  Unnamed: 77                              0 non-null      float64\n",
      " 78  Unnamed: 78                              0 non-null      float64\n",
      " 79  Unnamed: 79                              0 non-null      float64\n",
      " 80  Unnamed: 80                              0 non-null      float64\n",
      " 81  Unnamed: 81                              0 non-null      float64\n",
      " 82  Unnamed: 82                              0 non-null      float64\n",
      " 83  Unnamed: 83                              0 non-null      float64\n",
      " 84  Unnamed: 84                              0 non-null      float64\n",
      " 85  Unnamed: 85                              0 non-null      float64\n",
      " 86  Unnamed: 86                              0 non-null      float64\n",
      " 87  Unnamed: 87                              0 non-null      float64\n",
      " 88  Unnamed: 88                              0 non-null      float64\n",
      " 89  Unnamed: 89                              0 non-null      float64\n",
      " 90  Unnamed: 90                              0 non-null      float64\n",
      " 91  Unnamed: 91                              0 non-null      float64\n",
      " 92  Unnamed: 92                              0 non-null      float64\n",
      "dtypes: float64(85), int64(4), object(4)\n",
      "memory usage: 23.1+ MB\n"
     ]
    }
   ],
   "source": [
    "import pandas as pd;\n",
    "import matplotlib.pyplot as plt;\n",
    "import numpy as np;\n",
    "\n",
    "dataset = pd.read_csv(\"./exoplanets_dataset.csv\");\n",
    "dataset.info()"
   ]
  },
  {
   "cell_type": "markdown",
   "metadata": {},
   "source": [
    "Jak vidíme dataset obsahuje značné množství nepojmenovaných sloupců - Unnamed. Ty z datasetu odstraníme jako první."
   ]
  },
  {
   "cell_type": "code",
   "execution_count": 52,
   "metadata": {
    "ExecuteTime": {
     "end_time": "2023-06-02T13:30:43.599024600Z",
     "start_time": "2023-06-02T13:30:43.543492800Z"
    }
   },
   "outputs": [],
   "source": [
    "for column_name in dataset.columns:\n",
    "    if (\"Unnamed\" in column_name):\n",
    "        del dataset[column_name];"
   ]
  },
  {
   "cell_type": "markdown",
   "metadata": {},
   "source": [
    "Jako další by bylo vhodné zkontrolovat počty chybějících hodnot v jednotlivých sloupcích."
   ]
  },
  {
   "cell_type": "code",
   "execution_count": 53,
   "metadata": {
    "ExecuteTime": {
     "end_time": "2023-06-02T13:30:43.615689600Z",
     "start_time": "2023-06-02T13:30:43.606005500Z"
    }
   },
   "outputs": [
    {
     "name": "stdout",
     "output_type": "stream",
     "text": [
      "Planet Name                                    0\n",
      "Host Name                                      0\n",
      "Number of Stars                                0\n",
      "Number of Planets                              0\n",
      "Discovery Method                               0\n",
      "Discovery Year                                 0\n",
      "Discovery Facility                             0\n",
      "Orbital Period [days]                       2805\n",
      " Planet Radius [Earth Radius]               9841\n",
      "Planet Mass or Mass*sin(i) [Earth Mass]    27853\n",
      " Eccentricity                              15902\n",
      "dtype: int64\n"
     ]
    }
   ],
   "source": [
    "print(dataset.isnull().sum());"
   ]
  },
  {
   "cell_type": "markdown",
   "metadata": {},
   "source": [
    "Nejvíce chybějících hodnot se nachází ve sloupcích Planet Mass or Mass*sin(i), Eccentricity a Planet Radius, které obsahují hmotnost planety, ekcentricitu její oběžné dráhy a jejich poloměr. Vzhledem k tomu, že značná část těchto dat nám chybí, tak nebudeme tyto hodnoty využívat a sloupce odstraníme."
   ]
  },
  {
   "cell_type": "code",
   "execution_count": 54,
   "metadata": {
    "ExecuteTime": {
     "end_time": "2023-06-02T13:30:43.661263600Z",
     "start_time": "2023-06-02T13:30:43.621674900Z"
    }
   },
   "outputs": [],
   "source": [
    "columns_to_delte = [\" Planet Radius [Earth Radius]\", \"Planet Mass or Mass*sin(i) [Earth Mass]\",  \" Eccentricity\"]\n",
    "\n",
    "for column_name in dataset.columns:\n",
    "    if (column_name in columns_to_delte):\n",
    "        del dataset[column_name];"
   ]
  },
  {
   "cell_type": "markdown",
   "metadata": {},
   "source": [
    "Jako další odstraníme z datasetu duplikované hodnoty."
   ]
  },
  {
   "cell_type": "code",
   "execution_count": 55,
   "metadata": {
    "ExecuteTime": {
     "end_time": "2023-06-02T13:30:43.671059300Z",
     "start_time": "2023-06-02T13:30:43.635154400Z"
    }
   },
   "outputs": [
    {
     "name": "stdout",
     "output_type": "stream",
     "text": [
      "Deleted duplicate values: 11305\n"
     ]
    }
   ],
   "source": [
    "print(\"Deleted duplicate values: \" + str(dataset.duplicated().sum()));\n",
    "dataset.drop_duplicates();"
   ]
  },
  {
   "cell_type": "markdown",
   "metadata": {},
   "source": [
    "Po odstranění sloupců se značným počtem chybějících hodnot nám v datasetu zůstaly následující proměnné:\n",
    "- **Planet Name** - Obsahuje jméno dané exoplanety\n",
    "- **Host Name** - Jméno hostující hvězdy\n",
    "- **Number of Stars** - Počer hvězd v planetárním systému dané exoplanety (u Země 1)\n",
    "- **Number of Planets** - Počet planet v planetárním systému dané exoplanety (u Země 8)\n",
    "- **Discovery Method** - Způsob objevení planety\n",
    "- **Discovery Year** - Rok objevení planety\n",
    "- **Discovary Facility** - Zařízení, které objevilo danou planetu\n",
    "- **Orbital Period** - Orbitální perioda, doba v letech, za kterou planeta oběhne svou hostující hvězdu (Host Name)"
   ]
  },
  {
   "cell_type": "markdown",
   "metadata": {},
   "source": [
    "## Teoretická část\n",
    "V této části se zaměřím na statistické veličiny, které budou použity k analýze našeho datového souboru.\n",
    "Jako základní veličinu míry polohy použijeme aritmetický průměr. Náš soubor obsahuje jak spojité, tak diskrétní náhodné veličiny. Ačkoliv jsou spojité fyzikální veličiny při reálných měřeních často interpretovány jako diskrétní, vzhledem k tomu, že rozptyl u planetárních měření je zpravidla podstatně větší, než nejmenší rozlišitelná hodnota, tak bude vhodné tuto veličinu považovat za spojitou.\n",
    "\n",
    "- Aritmetický průměr spojité náhodné veličiny *E(x)* spočítáme jako:\n",
    "$$E(x)=\\int_{D(f)}xf(x)dx$$\n",
    "\n",
    "- Aritmetický průměr diskrétní náhodné veličiny *E(x)* spočítáme jako:\n",
    "$$E(x)=1/N\\displaystyle\\sum\\limits_{i=0}^N x_{i}$$\n",
    "\n",
    "Vzhledem k tomu, že jsme se rozhodli zkoumat tredy vývoje objevování nových planet, tak budeme potřebovat statistickou veličinu, kterou tento vývoj kvantifikujeme. K tomu je vhodné použít řetězové a bazické indexy. Pomocí nich můžeme snadno měřit růst či pokles dané veličiny mezi po sobě jdoucími obdobími nebo vůči nějakému základnímu období.\n",
    "\n",
    "- Řetězový index růstu veličiny *x* spočítáme jako:\n",
    "$$I_{t-1}^{t}=\\frac{x_{t}}{x_{t-1}}$$\n",
    "\n",
    "- Bazický index růstu veličiny *x* vůči pevnému základu spočítáme jako:\n",
    "$$I_{t_{0}}^{t}=\\frac{x_{t}}{x_{t_{0}}}$$\n",
    "\n",
    "Když jsme zavedli aritmetický průměr pro měření polohy a indexy pro zkoumání trendů, bude vhodné zavést také možnost, jak spočítat průměr nějakých indexů za dané období, tím získáme střední hodnotu růstu či poklesu dané proměnné. K průměrování indexů se používá geometrický průměr, ten je definován, jako n-tá odmocnina z produktu daných čísel.\n",
    "\n",
    "- Geometrický průměr spočítáme jako:\n",
    "$$E_{g}(x)=\\left(\\prod _{{i=1}}^{{n}}x_{i}\\right)^{{{\\frac {1}{n}}}}$$\n",
    "\n",
    "K zobrazení rozdělení četnosti použijeme histogram. Histogram je druh sloupcového grafu, který znázorňuje distribuci dat tak, že výška sloupce určuje četnost dané veličiny. U histogramu je kritické určení šířky intervalů (počtu tříd), do kterých dané četnosti rozdělíme. Pro Určení počtu tříd použijeme doporučený vztah\n",
    "$$k=\\lceil2.46(N-1)^{0,4}\\rceil$$\n",
    "\n",
    "Díky histogramu budeme schopni vizualizovat množství planet objevených jednotlivými zařízeními i vývoj počtu nově oběvených planet.\n",
    "\n"
   ]
  },
  {
   "cell_type": "markdown",
   "metadata": {},
   "source": [
    "## Praktická část\n",
    "V rámci praktické části se zaměříme na samotné zpracování dat, pomocí kterého budeme zkoumat trendy v počtech nových objevených exoplanet. Pro zkoumání četností nově objevených planet v daných letech si musíme nejprve sestavit nový DataFrame obsahující počty planet objevené v daných letech. Dále sestavíme řetězový index tohoto sloupce a určíme jeho směrodatnou odchylku, aritmetický průměr a variační koeficient, abychom zjistili, jak moc se od sebe hodnoty vzájemě liší."
   ]
  },
  {
   "cell_type": "code",
   "execution_count": 56,
   "metadata": {
    "ExecuteTime": {
     "end_time": "2023-06-02T13:30:43.739637400Z",
     "start_time": "2023-06-02T13:30:43.670062400Z"
    }
   },
   "outputs": [
    {
     "name": "stdout",
     "output_type": "stream",
     "text": [
      "Variační koeficient počtu nově objevených exoplanet ročně: 2.5629218786861627\n"
     ]
    },
    {
     "data": {
      "text/plain": "count       31.000000\nmean      1050.064516\nstd       2691.233322\nmin          2.000000\n25%         62.000000\n50%        232.000000\n75%        765.500000\nmax      12718.000000\nName: Frequency, dtype: float64"
     },
     "execution_count": 56,
     "metadata": {},
     "output_type": "execute_result"
    }
   ],
   "source": [
    "planet_discovery_frequencies = dataset.groupby(\"Discovery Year\")[\"Planet Name\"].count().reset_index(name=\"Frequency\");\n",
    "planet_discovery_frequencies[\"F/F-1\"] = planet_discovery_frequencies[\"Frequency\"]/planet_discovery_frequencies[\"Frequency\"].shift(1);\n",
    "print(\"Variační koeficient počtu nově objevených exoplanet ročně: \" + str(planet_discovery_frequencies[\"Frequency\"].std()/planet_discovery_frequencies[\"Frequency\"].mean()))\n",
    "planet_discovery_frequencies[\"Frequency\"].describe()"
   ]
  },
  {
   "cell_type": "markdown",
   "source": [
    "Ze získaných hodnot je patrné, že variační koeficient je velice vysoký (přibližně 256%), tím pádem pro nás aritmetický průměr není vypovídající statistickou veličinou. Zároveň můžeme vypozorovat, že se maximum danového souboru nachází vysoko nad hodnotou třetího kvartilu, to nám indikuje, že exisuje několik málo roků, během kterých bylo objeveno neobvykle mnoho exoplanet. Abychom mohli vizuálně posoudit počty objevených planet v jednotlivých letech, vytvoříme histogram. Vzhledem k obrovskému variačnímu rozpětí souboru a vysokému variačnímu koeficientu bude na osu *y* znázorňující počet objevených planet vhodné použít logaritmické měřítko, díky němu bude mezi vzdálenými hodnotami graficky menší vzdálenost a celý graf bude přehlednější"
   ],
   "metadata": {
    "collapsed": false
   }
  },
  {
   "cell_type": "code",
   "execution_count": 60,
   "outputs": [
    {
     "data": {
      "text/plain": "<Figure size 640x480 with 1 Axes>",
      "image/png": "[encoded data removed]"
     },
     "metadata": {},
     "output_type": "display_data"
    },
    {
     "name": "stdout",
     "output_type": "stream",
     "text": [
      "0\n"
     ]
    }
   ],
   "source": [
    "plt.bar(planet_discovery_frequencies['Discovery Year'], planet_discovery_frequencies['Frequency'])\n",
    "plt.xlabel('Rok objevení')\n",
    "plt.ylabel('Počet nově objevených exoplanet (log měřítko)')\n",
    "plt.title('Graf 1: Počet ročně objevených nových exoplanet')\n",
    "plt.yscale('log');\n",
    "y_vals = np.logspace(np.log10(1), np.log10(max(planet_discovery_frequencies['Frequency'])), num=5, endpoint=True, base=10)\n",
    "for y_val in y_vals:\n",
    "    plt.axhline(y=y_val, color='gray', linestyle='-', alpha=0.5, zorder=0)\n",
    "\n",
    "plt.show()\n"
   ],
   "metadata": {
    "collapsed": false,
    "ExecuteTime": {
     "end_time": "2023-06-03T06:58:08.592930600Z",
     "start_time": "2023-06-03T06:58:08.009227600Z"
    }
   }
  },
  {
   "cell_type": "markdown",
   "source": [
    "Z Grafu 1. lze vyčíst, že data vykazují poměrně přirozený, vizuálně až logaritmický růst, s výjimkou let 2014 a 2016, během kterých bylo objevenou 8822 a 12718 nových exoplanet. Počty objevené jenom v těchto dvou letech tvoří podstatnou část všech objevených exoplanet, proto nemůžeme tyto hodnoty ignorovat a pokusíme se zodpovědět, co stojí za těmito počty. Vytvoříme si dva nové DataFramy obsahující planety objevené v letech 2014 & 2016 a všechny ostatní, seskupíme je podle vědeckého zařízení, které je objevilo a nalezneme 5 nejvyšších hodnot."
   ],
   "metadata": {
    "collapsed": false
   }
  },
  {
   "cell_type": "code",
   "execution_count": 83,
   "outputs": [
    {
     "name": "stdout",
     "output_type": "stream",
     "text": [
      "        Discovery Facility  Planets Discovered\n",
      "27    La Silla Observatory                 491\n",
      "49               SuperWASP                 493\n",
      "57  W. M. Keck Observatory                 553\n",
      "19                      K2                1218\n",
      "25                  Kepler                5513\n",
      "        Discovery Facility  Planets Discovered\n",
      "7                 HATSouth                  48\n",
      "20  Multiple Observatories                  67\n",
      "25               SuperWASP                 125\n",
      "9                       K2                 551\n",
      "13                  Kepler               20510\n"
     ]
    }
   ],
   "source": [
    "critical_years_planets = dataset[dataset[\"Discovery Year\"].astype(str).str.contains(\"2014|2016\")]\n",
    "non_critical_years_planets = dataset[~dataset[\"Discovery Year\"].astype(str).str.contains(\"2014|2016\") ]\n",
    "print(non_critical_years_planets.groupby(\"Discovery Facility\")[\"Planet Name\"].count().reset_index(name=\"Planets Discovered\").sort_values(\"Planets Discovered\").tail());\n",
    "print(critical_years_planets.groupby(\"Discovery Facility\")[\"Planet Name\"].count().reset_index(name=\"Planets Discovered\").sort_values(\"Planets Discovered\").tail());"
   ],
   "metadata": {
    "collapsed": false,
    "ExecuteTime": {
     "end_time": "2023-06-03T07:37:03.881800500Z",
     "start_time": "2023-06-03T07:37:03.808719400Z"
    }
   }
  },
  {
   "cell_type": "markdown",
   "source": [],
   "metadata": {
    "collapsed": false
   }
  }
 ],
 "metadata": {
  "kernelspec": {
   "display_name": "Python 3 (ipykernel)",
   "language": "python",
   "name": "python3"
  },
  "language_info": {
   "codemirror_mode": {
    "name": "ipython",
    "version": 3
   },
   "file_extension": ".py",
   "mimetype": "text/x-python",
   "name": "python",
   "nbconvert_exporter": "python",
   "pygments_lexer": "ipython3",
   "version": "3.10.11"
  }
 },
 "nbformat": 4,
 "nbformat_minor": 1
}
